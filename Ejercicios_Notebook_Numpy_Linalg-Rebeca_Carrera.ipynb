{
 "cells": [
  {
   "cell_type": "markdown",
   "metadata": {},
   "source": [
    "## Resolución de Ejercicios de NumPy\n",
    "#### Lilian Rebeca Carrera Lemus  \n",
    "20008077\n"
   ]
  },
  {
   "cell_type": "code",
   "execution_count": 1,
   "metadata": {},
   "outputs": [
    {
     "name": "stdout",
     "output_type": "stream",
     "text": [
      "Collecting package metadata (current_repodata.json): ...working... done\n",
      "Solving environment: ...working... done\n",
      "\n",
      "# All requested packages already installed.\n",
      "\n",
      "Comando ejecutado:conda install --yes --prefix {C:\\Users\\Rebeca\\Anaconda3} numpy\n"
     ]
    }
   ],
   "source": [
    "# Instalar numpy desde el jupyter notebook en el ambiente actual de Anaconda\n",
    "import sys\n",
    "!conda install --yes --prefix {sys.prefix} numpy\n",
    "\n",
    "# ! ejecuta un comando del sistema desde el notebook, el comando ejecutado fue:\n",
    "print(\"Comando ejecutado:conda install --yes --prefix {\"+sys.prefix+\"} numpy\")"
   ]
  },
  {
   "cell_type": "code",
   "execution_count": 2,
   "metadata": {},
   "outputs": [],
   "source": [
    "import numpy as np"
   ]
  },
  {
   "cell_type": "markdown",
   "metadata": {},
   "source": [
    "**Ejercicio No. 1** : en data science y programación científica es común necesitar vectores con valores dentro de cierto intervalo, pero con sub-intervalos internos con diference espaciamiento ,por ejemplo:\n",
    "\n",
    "[0.  , 0.1 , 0.2 , 0.3 , 0.4 , 0.5 , 0.51, 0.52, 0.53, 0.54, 0.55,\n",
    "       0.56, 0.57, 0.58, 0.59, 0.6 , 0.7 , 0.8 , 0.9 , 1.  ]\n",
    "       \n",
    "El primer sub-intervalo incrementa de 0.1 en 0.1 , el segundo de 0.01 en 0.01 , y el tercero de 0.1 en 0.1 nuevamente.\n",
    "\n",
    "Usando unicamente NumPy crea un vector de este tipo con el nombre xs .\n",
    "\n",
    "**nota**: no es permitido usar ciclos, debe realizarse con operaciones \"vectorizadas\" de numpy"
   ]
  },
  {
   "cell_type": "code",
   "execution_count": 3,
   "metadata": {},
   "outputs": [
    {
     "data": {
      "text/plain": [
       "array([0.  , 0.1 , 0.2 , 0.3 , 0.4 , 0.5 , 0.51, 0.52, 0.53, 0.54, 0.55,\n",
       "       0.56, 0.57, 0.58, 0.59, 0.6 , 0.7 , 0.8 , 0.9 , 1.  ])"
      ]
     },
     "execution_count": 3,
     "metadata": {},
     "output_type": "execute_result"
    }
   ],
   "source": [
    "# tu codigo aqui (~ 5 lineas de codigo):\n",
    "x1 = np.arange(0,0.6,0.1)\n",
    "x2 = np.arange(0.51,0.6,0.01)\n",
    "x3 = np.arange(0.6,1.01,0.1)\n",
    "xs = np.hstack((x1,x2,x3))\n",
    "xs"
   ]
  },
  {
   "cell_type": "markdown",
   "metadata": {},
   "source": [
    "**Ejercicio No. 2:** En este caso usamos un ciclo  para ejemplificar pero ya hemos mencionado que debemos evitarlos siempre que sea posible y usar operaciones \"vectorizadas\" ya que es mucho mas rápido al utilizar  código pre-compilado de C, en este ejercicio debemos remplazar el calculo de xs para hacerlo de manera \"vectorizada\" y eliminar el ciclo for. \n",
    "\n",
    "**tip**: usar slicing"
   ]
  },
  {
   "cell_type": "code",
   "execution_count": 4,
   "metadata": {},
   "outputs": [
    {
     "name": "stdout",
     "output_type": "stream",
     "text": [
      "[-0.09071129  0.32760998  0.78314243  0.97734939  0.95394799  0.85268793\n",
      "  0.415148    0.03081238 -0.49630781 -0.7809093  -0.98637053 -0.97762888\n",
      " -0.80516067 -0.37013631 -0.07090564]\n",
      "[-0.09071129  0.34001371  0.69603394  0.90481327  0.92799511  0.74059464\n",
      "  0.43288277 -0.01678248 -0.41546824 -0.75452922 -0.91496957 -0.92305336\n",
      " -0.71764195 -0.41540087 -0.07090564]\n"
     ]
    }
   ],
   "source": [
    "ruido = 0.1*np.random.randn(15) \n",
    "x = np.linspace(0,2*np.pi,15) + ruido\n",
    "x = np.sin(x)\n",
    "\n",
    "xs_new =  x.copy()\n",
    "\n",
    "#Nuevo código para reemplazar el ciclo\n",
    "l1 = np.hstack((0, xs_new[:len(xs_new)-1]))\n",
    "l2 = np.hstack((xs_new[1:len(xs_new)], 0))\n",
    "xs_new = (x + l1 + l2) / 3\n",
    "xs_new[0] = x[0]\n",
    "xs_new[len(xs_new)-1] = x[len(x)-1]\n",
    "\n",
    "print(x)\n",
    "print(xs_new)"
   ]
  },
  {
   "cell_type": "markdown",
   "metadata": {},
   "source": [
    "**Ejercicio No. 3:** \n",
    "Para calcular la información de una distribución de probabilidad necesitamos calcular el producto entre la información de cada posible x y su probabilidad , cada uno de estos elementos nos indica cuanta incerteza aporta cada x a la entropía de la distribución. \n",
    "\n",
    "**a)**Crea una función que calcule esto, debe recibir un vector representando a la dist. de probabilidad y devoler otro vector con el termino de entropía para cada x. Por ejemplo:\n",
    "\n",
    "calcular_entropia([0.25,0.75])\n",
    "\n",
    "Debe resultar en :\n",
    "\n",
    "[0.5    ,    0.31127812]\n",
    "\n",
    "**Nota**: la entropía es la suma sobre estos valores, en este caso no calculamos la entropía,unicamente los termimos de su sumatoria. La entropía es:\n",
    "\n",
    "$$S = -\\sum_i^nP(x_{i})log_{2}P(x_{i})$$"
   ]
  },
  {
   "cell_type": "code",
   "execution_count": 5,
   "metadata": {},
   "outputs": [
    {
     "name": "stdout",
     "output_type": "stream",
     "text": [
      "[0.5        0.31127812]\n"
     ]
    }
   ],
   "source": [
    "# tu codigo aqui (~ 4 lineas de codigo)\n",
    "def calcula_informacion(px):\n",
    "    return px*np.log2(px) * -1\n",
    "\n",
    "dist_prob = np.array([0.25,0.75])\n",
    "print(calcula_informacion(dist_prob))\n"
   ]
  },
  {
   "cell_type": "markdown",
   "metadata": {},
   "source": [
    "**b)** A partir de la información en un data warehouse con un modelo de  datos el valor de clientes en el tiempo se ha determinado un modelo predictivo  no lineal que estima cuanta ganancia ha generado cierto cliente en 5 años en base a lo que ha gastado en su primer mes como cliente. \n",
    "\n",
    "El modelo tiene la forma:\n",
    "\n",
    "$$g(x) = (x^{3} + 2x^{2} + e^{0.0001x} -\\sqrt{2x})/50$$\n",
    "\n",
    "Crear una función que calcule la ganancia para valores de gasto de nuevos clientes:"
   ]
  },
  {
   "cell_type": "code",
   "execution_count": 6,
   "metadata": {},
   "outputs": [
    {
     "name": "stdout",
     "output_type": "stream",
     "text": [
      "Ganancias [20399.73735829  2599.82010025   337.37862871]\n"
     ]
    }
   ],
   "source": [
    "#La función va a recibir un vector y tiene que mediante funciones universales calcular gx, sin hacerlo elemento a elemento\n",
    "#es decir, sin usar ciclos\n",
    "def g(x):\n",
    "    ganancia = (np.power(x,3) + 2.0*(np.power(x,2.0))+np.exp(0.0001*x) - np.sqrt(2.0*x))/50\n",
    "    return ganancia\n",
    "    \n",
    "gastos = np.array([100,50,25])\n",
    "ganancia = g(gastos)\n",
    "\n",
    "print(\"Ganancias\",ganancia)"
   ]
  },
  {
   "cell_type": "markdown",
   "metadata": {},
   "source": [
    "**Ejercicio No.4:**  se ha determinado también que hay costos asociados a la comunicación y relación con los clientes(llamadas,mensajes electrónicos,etc) y que estos también tienen alta correlación con el monto que estos gastan en su primer més siguiendo el modelo:\n",
    "$$c(x) = (x^{2} + x + log (0.0001x)-\\sqrt{0.54x})/100$$\n",
    "\n",
    "Cree una función para calcular este modelo sobre valores de de gasto de nuevos clientes , y luego cree una función  **ganancia_neta(x,g,c)** donde:\n",
    "* x = vector conteniendo los valores de gasto del primer mes para nuevos clientes.\n",
    "* g = función que estima la ganancia en función de x\n",
    "* c = función que estima el costo en función de x\n",
    "\n",
    "La función realiza el calculo simple **g(x) - c(x)** , ya que es posible que los modelos cambien en el tiempo es común recibir como parámetro el modelo o modelos hijos de un modelo mas grande , en este caso eso se logra recibiendo como parámetro las funciones de ganancia y costo.\n",
    "\n",
    "Nota: Hay que usar parte de la investigación, especificamente la parte de definir funciones como objetos"
   ]
  },
  {
   "cell_type": "code",
   "execution_count": 7,
   "metadata": {},
   "outputs": [
    {
     "name": "stdout",
     "output_type": "stream",
     "text": [
      "La Ganancia neta es:  [20298.85689469  2574.42504495   330.9752857 ]\n"
     ]
    }
   ],
   "source": [
    "def c(x):\n",
    "    costos = (np.power(x,2) + x +np.log(0.0001*x) - np.sqrt(0.54*x))/100\n",
    "    return costos\n",
    "\n",
    "def gn(x,func1,func2):\n",
    "    ganancia_neta = func1(x) - func2(x)\n",
    "    return ganancia_neta\n",
    "\n",
    "ganancia_neta = gn(gastos,g,c)\n",
    "\n",
    "print(\"La Ganancia neta es: \",ganancia_neta)"
   ]
  },
  {
   "cell_type": "markdown",
   "metadata": {},
   "source": [
    "**Ejercicio No.5:** En un datawarehouse se tiene un modelo \"lifetime value\" en el que se almacena de manera acumulativa cuantas ganancias se han percibido a lo largo de la vida de los usuarios, un ETL en Python debe calcularlo en función de un vector que contiene de manera ordenada en el tiempo los ingresos percibidos mensualmente para cierto usuario. Podemos usar la funcion **np.cumsum** para esto, en este ejercicio necesitamos determinar el \"lifetime value\" de cierto usuario en su 6to mes:"
   ]
  },
  {
   "cell_type": "code",
   "execution_count": 8,
   "metadata": {},
   "outputs": [
    {
     "name": "stdout",
     "output_type": "stream",
     "text": [
      "Lifetime value: [ 25 175 300 375 475 520 542 572]\n",
      "El valor del usuario a su sexto mes es : 520\n"
     ]
    }
   ],
   "source": [
    "def lifetime_value(ganancias_mensuales):\n",
    "    ## tu codigo aqui(~ 1 linea de codigo):\n",
    "    return (np.cumsum(ganancias_mensuales))\n",
    "    \n",
    "# Prueba:\n",
    "ganancias_usuario = np.array([25,150,125,75,100,45,22,30])\n",
    "lifetime_value_usuario = lifetime_value(ganancias_usuario)\n",
    "\n",
    "print(\"Lifetime value:\",lifetime_value_usuario)\n",
    "\n",
    "print(\"El valor del usuario a su sexto mes es :\",lifetime_value_usuario[5])"
   ]
  },
  {
   "cell_type": "markdown",
   "metadata": {},
   "source": [
    "**Ejercicio No.6:** Usando argmax crear una función mode(x) para calcular la moda de un vector x , esta función debe devolver una tupla de 2 elementos de la forma:\n",
    "\n",
    "(valor,conteo)\n",
    "\n",
    "**tip** investigar y auxiliarse de otras funciones de numpy y np.argmax, no olvidar trabajar todo vectorizado, sin ciclos."
   ]
  },
  {
   "cell_type": "code",
   "execution_count": 9,
   "metadata": {},
   "outputs": [
    {
     "name": "stdout",
     "output_type": "stream",
     "text": [
      "(2, 3)\n"
     ]
    }
   ],
   "source": [
    "from collections import Counter\n",
    "\n",
    "def mode(x):\n",
    "    ## tu codigo aqui (~ 3 lineas de codigo):\n",
    "    moda = Counter(x).most_common(1)\n",
    "    return  moda[0][0], moda[0][1]\n",
    "\n",
    "x = np.array([1,2,3,4,5,6,7,8,9,2,2])\n",
    "print(mode(x))"
   ]
  },
  {
   "cell_type": "markdown",
   "metadata": {},
   "source": [
    "**Ejercicio No.7:** : crear una función para calcular la entropía  de una distribución de probabilidad representada como un vector.\n",
    "$$S = -\\sum_i^nP(x_{i})log_{2}P(x_{i})$$\n",
    "\n",
    "**Nota**: a diferencia del ejercicio anterior donde solo calculamos los términos de la entropía, en este caso  si calculamos el valor completo de la entropía, que como mencionamos es una medida de incerteza en una distribución de probabilidad.\n",
    "\n",
    "**recordatorio**: no usar ciclos solo operaciones vectorizadas."
   ]
  },
  {
   "cell_type": "code",
   "execution_count": 10,
   "metadata": {},
   "outputs": [
    {
     "name": "stdout",
     "output_type": "stream",
     "text": [
      "0.8112781244591328\n"
     ]
    }
   ],
   "source": [
    "# tu codigo aqui (~ 3 lineas de codigo)\n",
    "def calcula_entropia(px):\n",
    "    return np.sum(px*np.log2(px))*-1\n",
    "\n",
    "print(calcula_entropia(np.array([0.25,0.75])))\n"
   ]
  },
  {
   "cell_type": "markdown",
   "metadata": {},
   "source": [
    "**Ejercicio No.8:** En ML usamos la entropía cruzada como una forma de medir que tan bueno es un modelo de variables discretas a través de comparar la distribución de probabilidad que el modelo produce o predice, vs la distribución de probabilidad real dada por los datos de entrenamiento.\n",
    "\n",
    "Podemos ver el siguiente ejemplo que define la forma en que se calcula la entropía cruzada y nos muestra un caso específico:\n",
    "\n",
    "<img src=\"https://image.slidesharecdn.com/publishintroductiontodeeplearninginpythonandmatlab1-160502102437/95/introduction-to-deep-learning-in-python-and-matlab-54-638.jpg?cb=1462185644\">\n",
    "\n",
    "En este caso interpretamos así: El problema consiste en un modelo o algoritmo de ML que debe producir un vector de 3 elementos indicando la probabilidad de que ciertos datos X pertenezcan a una de 3 categorías.\n",
    "\n",
    "* El modelo de ML produce un vector que indica que estima un 70% de probabilidad de que se trate de la categoría 0, 20% de probabilidad de que se trate de la categoría 1 y 10% de que se trate de la categoría 2.\n",
    "* Los datos reales nos dicen que se trataba de un caso donde con total certeza se sabe que se trata de la categoría 0\n",
    "* La entropía cruzada(a calcular en el ejercicio) nos indica que tan buena es la estimación del modelo, una EC de 0 es un modelo perfecto(en este caso un modelo que predice 100% de prob para la clase 0)\n",
    "\n",
    "**Nota** \n",
    "* Aun que para calcular la entropía usamos logaritmos en base 2, en ML para calcular la entropía cruzada se usa logaritmo natural ya que con este se cumple el proposito **estimar que tanto se alejan las predicciones del modelo de ML de los datos reales** y es comunmente mas rápido de calcular en la computadora.\n",
    "* Ya que estamos trabajando con vectores que representan distribuciones de probabilidad , podemos toparnos con lo que se conoce como : **sparse vectors**(vectores donde la mayoría de elementos son 0), esto puede producir problemas ya que le logaritmo de 0 no esta definido, tu solución debe tomar en cuenta esto y evitar que devuelva \"nan\""
   ]
  },
  {
   "cell_type": "code",
   "execution_count": 11,
   "metadata": {},
   "outputs": [
    {
     "data": {
      "text/plain": [
       "0.35667494393873245"
      ]
     },
     "execution_count": 11,
     "metadata": {},
     "output_type": "execute_result"
    }
   ],
   "source": [
    "def cross_entropy(Y,Y_hat):\n",
    "    ##tu codigo aqui (~ 1 lineas de codigo)\n",
    "    Y_hat[Y_hat <= 0] = 1\n",
    "    return np.sum(Y*(np.log(Y_hat))) *-1 #Siguiendo la función de la imagen, se usa el logaritmo de base10\n",
    "    \n",
    "\n",
    "y  = np.array([1.0,0,0])\n",
    "y_hat = np.array([0.7,0.2,0.1])\n",
    "\n",
    "cross_entropy(y,y_hat)"
   ]
  },
  {
   "cell_type": "markdown",
   "metadata": {},
   "source": [
    "**Ejercicio No.9:** crear una función que reciba como parámetro un vector x y calcule su magnitud o norma(euclidiana o L2) ,luego usarla para evaluar 2 vectores que representan los errores generados por 2 modelos de machine learning y concluir cual de los 2 modelos es mejor."
   ]
  },
  {
   "cell_type": "code",
   "execution_count": 12,
   "metadata": {},
   "outputs": [
    {
     "name": "stdout",
     "output_type": "stream",
     "text": [
      "3.1622776601683795\n",
      "2.449489742783178\n"
     ]
    }
   ],
   "source": [
    "def magnitud(x):\n",
    "    ## tu codigo aqui (~ 1 linea de codigo)\n",
    "    return np.sqrt(np.sum(np.power(x,2)))\n",
    "    \n",
    "errores_modelo1 = np.array([1,2,1,2])\n",
    "errores_modelo2 = np.array([0,1,1,2])\n",
    "\n",
    "print(magnitud(errores_modelo1))\n",
    "print(magnitud(errores_modelo2))\n",
    "\n",
    "#Comparando las magnitudes de estos dos vectores, podemos concluir que el modelo 2 es mejor, ya que su magnitud es menor en\n",
    "#comparación con la magnitud del vector que representa los erroes del modelo 1"
   ]
  },
  {
   "cell_type": "markdown",
   "metadata": {},
   "source": [
    "**Ejercicio No. 10:** Usando la función del ejercicio anterior, crea otra función normalizar(x) que reciba de parámetro un vector x aplique normalización sobre este, el resultado debe ser un nuevo vector del tamaño de x cuya magnitud es igual a 1.0"
   ]
  },
  {
   "cell_type": "code",
   "execution_count": 13,
   "metadata": {},
   "outputs": [
    {
     "name": "stdout",
     "output_type": "stream",
     "text": [
      "1.0\n",
      "[0.         0.40824829 0.40824829 0.81649658]\n"
     ]
    }
   ],
   "source": [
    "def normalizar(x):\n",
    "    ## tu codigo aqui (~ 3 linea de codigo)\n",
    "    magnitudx = magnitud(x)\n",
    "    vnormalizado = x/magnitudx\n",
    "    return vnormalizado\n",
    "    \n",
    "print(magnitud(normalizar(errores_modelo1)))\n",
    "print(normalizar(errores_modelo2))"
   ]
  },
  {
   "cell_type": "markdown",
   "metadata": {},
   "source": [
    "**Ejercicio No.11:**\n",
    "Se tiene una red neuronal sencilla(y simplificada) como la de la siguiente imagen:\n",
    "<img src=\"https://www.oreilly.com/library/view/practical-convolutional-neural/9781788392303/assets/246151fb-7893-448d-b9bb-7a87b387a24b.png\">\n",
    "\n",
    "Donde:\n",
    "* INPUT LAYER: un vector X de tamaño = 2 que representa los datos de entrada\n",
    "* HIDDEN_LAYER :capa oculta con 2 neuronas definidas por los vectores:\n",
    "    * HL1 = [0.25,0.37]\n",
    "    * HL2 = [-8,14]\n",
    "* OUTPUT_LAYER = capa de salida definida por el vector [4,9]\n",
    "\n",
    "Crear una funcion neural_network(X) para calcular:\n",
    "* Calcule la salida de cada neurona en la capa intermedia aplicada a la capa de entrada.\n",
    "* Use el resultado del paso anterior como entrada para la neurona en la capa de salida\n",
    "\n",
    "Asumiendo que cada neurona identifica la similitud entre su entrada y la caracteística que representa concluir:\n",
    "* Para cada vector de entrada Xi , cual neurona intermedia busca la característica que mas se parece a X.\n",
    "* Cual vector de entrada Xi produce una activación alta(salida alta) en la capa de salida."
   ]
  },
  {
   "cell_type": "code",
   "execution_count": 14,
   "metadata": {},
   "outputs": [],
   "source": [
    "def neural_network(x):\n",
    "    HL1 = np.array([0.25,0.37])\n",
    "    HL2 = np.array([-8,14])\n",
    "    SHL1 = np.dot(x, HL1)\n",
    "    SHL2 = np.dot(x, HL2)\n",
    "    xHL = np.array([SHL1, SHL2])\n",
    "    OL = np.array([4,9])\n",
    "    return SHL1, SHL2, np.dot(xHL, OL)\n",
    "  "
   ]
  },
  {
   "cell_type": "code",
   "execution_count": 15,
   "metadata": {},
   "outputs": [
    {
     "name": "stdout",
     "output_type": "stream",
     "text": [
      "Salida neurona intermedia 1:  0.39139999999999997  Salida neura intermedia2:  6.08  Resultado capa de salida:  56.2856\n",
      "Salida neurona intermedia 1:  1.5899999999999999  Salida neura intermedia2:  130  Resultado capa de salida:  1176.36\n",
      "Salida neurona intermedia 1:  0.0  Salida neura intermedia2:  0  Resultado capa de salida:  0.0\n",
      "Salida neurona intermedia 1:  0.62  Salida neura intermedia2:  6.0  Resultado capa de salida:  56.48\n",
      "Salida neurona intermedia 1:  -0.28373947695943263  Salida neura intermedia2:  9.596719213494762  Resultado capa de salida:  85.23551501361513\n"
     ]
    }
   ],
   "source": [
    "# Aplicar la red neuronal sobre los siguientes datos X\n",
    "\n",
    "X1 = np.array([0.50,0.72])\n",
    "X2 = np.array([-4,7])\n",
    "X3 = np.zeros_like(X2)\n",
    "x4 = np.ones_like(X1)\n",
    "X5 = np.random.randn(X1.shape[0])\n",
    "\n",
    "ni1, ni2, cs = neural_network(X1)\n",
    "print(\"Salida neurona intermedia 1: \", ni1, \" Salida neura intermedia2: \", ni2, \" Resultado capa de salida: \", cs)\n",
    "ni1, ni2, cs = neural_network(X2)\n",
    "print(\"Salida neurona intermedia 1: \", ni1, \" Salida neura intermedia2: \", ni2, \" Resultado capa de salida: \", cs)\n",
    "ni1, ni2, cs = neural_network(X3)\n",
    "print(\"Salida neurona intermedia 1: \", ni1, \" Salida neura intermedia2: \", ni2, \" Resultado capa de salida: \", cs)\n",
    "ni1, ni2, cs = neural_network(x4)\n",
    "print(\"Salida neurona intermedia 1: \", ni1, \" Salida neura intermedia2: \", ni2, \" Resultado capa de salida: \", cs)\n",
    "ni1, ni2, cs = neural_network(X5)\n",
    "print(\"Salida neurona intermedia 1: \", ni1, \" Salida neura intermedia2: \", ni2, \" Resultado capa de salida: \", cs)"
   ]
  },
  {
   "cell_type": "markdown",
   "metadata": {},
   "source": [
    "**Respuestas a las preguntas del ejercicio anterior:**\n",
    "\n",
    "* Para cada vector de entrada Xi , cual neurona intermedia busca la característica que mas se parece a X.\n",
    "\n",
    "*Para los casos de los vectores de entrada X1,X2,X4 y X5, la neurona intermedia número 2 es la que busca la característica que mas se parece al vector de entrada X. Para el vector X3 los valores de entrada son muy diferentes a los valores buscados por ambas neuronas intermedias, ya que el resultado del producto punto es 0*\n",
    "\n",
    "* Cual vector de entrada Xi produce una activación alta(salida alta) en la capa de salida.\n",
    "\n",
    "*El vector de entrada X2 es el que produce la activación más alta en la capa de salida de todos los vectores de entrada evaludos*"
   ]
  },
  {
   "cell_type": "markdown",
   "metadata": {},
   "source": [
    "### Tarea\n",
    "buscar las aplicaciones del producto punto en data science"
   ]
  },
  {
   "cell_type": "markdown",
   "metadata": {},
   "source": [
    "*  Se puede usar en la Minería de Texto para calcular similitud por producto escalar entre un vector pregunta Q y los vectores de los documentos.\n",
    "* Esta medida también se usa a menudo en el aprendizaje automático para clasificar objetos mapeados en espacios vectoriales.\n",
    "* Muy utilizado en la técnica de Inteligencia Artificial llamada Máquinas de Soporte Vectorial (MSV)\n",
    "* Podemos usarlo en DS para determinar que tan \"acertado\" es un resultado tras ser procesado por una red neuronal."
   ]
  },
  {
   "cell_type": "markdown",
   "metadata": {},
   "source": [
    "**Ejercicio No.12:** la correlación cruzada es una medida de similitud entre 2 funciones como resultado de \"desplazar\" una sobre la otra, comunmente es usada para encontrar características relevantes en una función desconocida o no controlada.\n",
    "\n",
    "En procesamiento de señales por ejemplo es usada para buscar y/o filtrar en una señal que varia en el tiempo cierta caracaterística de interés. Aveces es llamada también \"sliding dot product\" consiste en aplicar en cada punto de una función F el producto punto con cierta función G(comunmente mas corta) y luego \"deslizar\" G a un nuevo punto de la función, el resultado es una nueva función H que se interpreta como :**cuanto se parece** en cada punto la función F a la característica G. \n",
    "\n",
    "<img src=\"https://i.makeagif.com/media/11-25-2015/LZ9Ufj.gif\">\n",
    "\n",
    "En este ejercicio usamos correlación cruzada para calcular las medias moviles promediando 3 puntos que ya vimos en otro ejemplo:\n",
    "\n",
    "El primer paso es definir la función G que define el \"filtro\" a aplicar, para este caso consiste simplemente en un vector con 3 elementos donde cada elemento corresponde a 1/3, luego debemos aplicar el producto punto sobre cada punto de la función o datos originales(en este ejemplo llamados x) a traves aplicar el producto punto en cada elemento \"corriendolo\" de uno en uno"
   ]
  },
  {
   "cell_type": "code",
   "execution_count": 16,
   "metadata": {},
   "outputs": [
    {
     "name": "stdout",
     "output_type": "stream",
     "text": [
      "[ 0.04066902  0.43411124  0.73621695  0.90090468  0.90281716  0.75880941\n",
      "  0.38337053 -0.08891563 -0.43280126 -0.70810073 -0.89274742 -0.85757254\n",
      " -0.67181242 -0.42318279 -0.12043935]\n"
     ]
    }
   ],
   "source": [
    "ruido = 0.1*np.random.randn(15) #el ruido comunmente se debe a aleatoriedad o captura no exacta de info.\n",
    "x = np.linspace(0,2*np.pi,15) + ruido\n",
    "x = np.sin(x)\n",
    "\n",
    "y = np.sin(x) + ruido\n",
    "ys = y.copy()\n",
    "\n",
    "filtro = np.array([1/3,1/3,1/3])\n",
    "\n",
    "## tu codigo aqui (~ 3 linea de codigo)\n",
    "xs = x.copy()\n",
    "for i in range(1,len(x)-1):\n",
    "    xs[i] = np.inner(xs[i-1:i+2], filtro)\n",
    "    \n",
    "print(xs)"
   ]
  },
  {
   "cell_type": "markdown",
   "metadata": {},
   "source": [
    "**Ejercicio No.13:** dado el vector x, usar operadores lógicos sobre vectores y acceso a  elementos usando vectores booleanos , escribir un programa que calcule eun nuevo vector z conteniendo el valor absoluto de el vector x.\n",
    "\n",
    "**nota** No se puede usar np.abs() ni ciclos\n",
    "\n",
    "**tip** usar un vector booleano para saber que elementos son negativos y deben ser multiplicados por -1"
   ]
  },
  {
   "cell_type": "code",
   "execution_count": 17,
   "metadata": {},
   "outputs": [
    {
     "data": {
      "text/plain": [
       "array([2. , 1.5, 1. , 0.5, 0. , 0.5, 1. , 1.5, 2. ])"
      ]
     },
     "execution_count": 17,
     "metadata": {},
     "output_type": "execute_result"
    }
   ],
   "source": [
    "x = np.linspace(-2,2,9)\n",
    "\n",
    "## tu codigo aqui (~ 4 linea de codigo)\n",
    "def miFuncion(x):\n",
    "    z = x.copy()\n",
    "    z[z<0] = (z[z<0]) * -1\n",
    "    return z\n",
    "\n",
    "miFuncion(x)"
   ]
  },
  {
   "cell_type": "markdown",
   "metadata": {},
   "source": [
    "**Ejercicio No.14:** Implementar la función:\n",
    "$$h(x) = \\begin{cases}0 & x< 0\\\\1 & 0<=x <=1\\\\0 & x> 1\\end{cases}$$\n",
    "\n",
    "Esta debe funcionar para vectores de cualquier tamaño x:\n",
    "\n",
    "def h(x):\n",
    "\n",
    "    ...\n",
    "\n",
    "**nota** debe ser implementada sin ciclos o ifs "
   ]
  },
  {
   "cell_type": "code",
   "execution_count": 18,
   "metadata": {},
   "outputs": [
    {
     "name": "stdout",
     "output_type": "stream",
     "text": [
      "[1 0 1 0]\n"
     ]
    }
   ],
   "source": [
    "def h(x):\n",
    "    ## tu codigo aqui (~ 3 linea de codigo)\n",
    "    condiciones = [x > 1, x < 0]\n",
    "    resultados = [0, 0]\n",
    "    h = np.select(condiciones, resultados, 1)\n",
    "    return h\n",
    "\n",
    "x = np.array([0.1,-2,0.5,5])\n",
    "print(h(x))"
   ]
  },
  {
   "cell_type": "markdown",
   "metadata": {},
   "source": [
    "**Ejercicio No. 15:**\n",
    "\n",
    "Usando select implementar una función k(x) con la siguiente definición:\n",
    "$$k(x) = \\begin{cases}-x & x< 0\\\\x^{3}  &0<=x<1\\\\x^{2}  &1<=x<2\\\\4  &otherwise\\end{cases}$$\n",
    "\n"
   ]
  },
  {
   "cell_type": "code",
   "execution_count": 19,
   "metadata": {},
   "outputs": [
    {
     "name": "stdout",
     "output_type": "stream",
     "text": [
      "[-2. -1.  0.  1.  2.  3.  4.  5.  6.  7.]\n",
      "[2. 1. 0. 1. 4. 4. 4. 4. 4. 4.]\n"
     ]
    }
   ],
   "source": [
    "x = np.linspace(-2,7,10)\n",
    "condiciones = [x<0,(0<=x)*(x<1),(1<=x)*(x<2)]\n",
    "resultados =  [-x,  x**3,   x**2]\n",
    "k = np.select(condiciones,resultados,4)\n",
    "\n",
    "print(x)\n",
    "print(k)"
   ]
  },
  {
   "cell_type": "markdown",
   "metadata": {},
   "source": [
    "**Ejercicio No.16** \n",
    "Investigar piecewise y:\n",
    "*  **a)** Usarlo para implementar la función anterior de manera eficiente\n",
    "*  **b)** Usar piscewise para implementar la función:\n",
    "\n",
    "$$m(x) = \\begin{cases}e^{2x} & x< 0\\\\1  &0<=x<1\\\\e^{1-x}  &x<=1\\\\\\end{cases}$$\n",
    "\n",
    "Nuevamente, sin utilizar ciclos ni ifs"
   ]
  },
  {
   "cell_type": "code",
   "execution_count": 20,
   "metadata": {},
   "outputs": [
    {
     "name": "stdout",
     "output_type": "stream",
     "text": [
      "[-2. -1.  0.  1.  2.  3.  4.  5.  6.  7.]\n",
      "[2. 1. 0. 1. 4. 4. 4. 4. 4. 4.]\n"
     ]
    }
   ],
   "source": [
    "#Inciso a\n",
    "x = np.linspace(-2,7,10)\n",
    "condiciones = [x<0,(0<=x)*(x<1),(1<=x)*(x<2)]\n",
    "resultados =  [lambda x: -x, lambda x: x**3, lambda x: x**2, 4]\n",
    "k = np.piecewise(x,condiciones,resultados)\n",
    "\n",
    "print(x) \n",
    "print(k)"
   ]
  },
  {
   "cell_type": "code",
   "execution_count": 21,
   "metadata": {},
   "outputs": [
    {
     "data": {
      "text/plain": [
       "array([0.01831564, 0.13533528, 1.        , 1.        , 0.36787944,\n",
       "       0.13533528, 0.04978707, 0.01831564, 0.00673795, 0.00247875])"
      ]
     },
     "execution_count": 21,
     "metadata": {},
     "output_type": "execute_result"
    }
   ],
   "source": [
    "#Inciso b\n",
    "def m(x):\n",
    "    return np.piecewise(x, [x < 0, (x >= 0)*(x < 1), x >=1], [lambda x: np.exp(2*x), 1, lambda x: np.exp(1-x)])\n",
    "\n",
    "x = np.linspace(-2,7,10)\n",
    "m(x)"
   ]
  },
  {
   "cell_type": "markdown",
   "metadata": {},
   "source": [
    "#### Investigar\n",
    "\n",
    "* Proyección vectorial\n",
    "    * Definir una función para calculo en numpy\n",
    "    * interpretación\n",
    "    * aplicación o caso de uso en DS u otras ciencias de tu interés: solo se necesita nombrar el caso de uso, no desarrollarlo o programarlo, tip: Hay un algoritmo de ML cuyo nombre puede ser  útil.\n",
    "* Producto cruz\n",
    "    * calculo en numpy\n",
    "    * interpretación\n",
    "    * aplicación o caso de uso en DS u otras ciencias de tu interés: solo se necesita nombrar el caso de uso, no desarrollarlo o programarlo\n",
    "    "
   ]
  },
  {
   "cell_type": "markdown",
   "metadata": {},
   "source": [
    "## Proyección vectorial\n",
    "\n",
    "* **Definir una función para calculo en numpy:**\n",
    "\n",
    "No hay una función definida en Numpy para calcular la proyección vectorial, sin embargo, el cálculo se puede hacer de la siguiente forma v * (np.dot(u, v) / np.dot(v, v)). Hay que denotar que la proyección del vector u  sobre el vector v  no es la misma que la proyección del vector v  sobre el vector  u.\n",
    "\n",
    "También se podría calcular de la siguiente forma: np.dot(u, v) / (np.linalg.norm(v)** 2), ya que la norma es igual a np.sqrt(sum(v** 2)) pero ya existe la función en numpy\n",
    "\n",
    "<img src= \"https://www.geeksforgeeks.org/wp-content/ql-cache/quicklatex.com-88bbab4b50b8b737fe3ee634b2a9e23d_l3.svg\">\n",
    "\n",
    "En la librería SymPy si existe una función especifíca para este cálculo u.project(v)\n"
   ]
  },
  {
   "cell_type": "code",
   "execution_count": 33,
   "metadata": {},
   "outputs": [
    {
     "name": "stdout",
     "output_type": "stream",
     "text": [
      "La proyección del vector v1 sobre el vector v2, es el vector con valores  [2.13402062 1.89690722 1.65979381]\n",
      "La proyección del vector v2 sobre el vector v1, es el vector con valores  [3.28571429 6.57142857 9.85714286]\n"
     ]
    }
   ],
   "source": [
    "def calcular_proy_vectorial(v1,v2):\n",
    "    proyeccionV = (np.dot(v1,v2)/np.dot(v2,v2)) *v2\n",
    "    \n",
    "    #O también se podría calcular así:\n",
    "    #proyeccionV = (np.dot(v1,v2)/np.linalg.norm(v2)**2) *v2\n",
    "    return proyeccionV\n",
    "\n",
    "v1 = np.array([1,2,3])\n",
    "v2 = np.array([9,8,7])\n",
    "\n",
    "print(\"La proyección del vector v1 sobre el vector v2, es el vector con valores \", calcular_proy_vectorial(v1,v2))\n",
    "print(\"La proyección del vector v2 sobre el vector v1, es el vector con valores \", calcular_proy_vectorial(v2,v1))"
   ]
  },
  {
   "cell_type": "markdown",
   "metadata": {},
   "source": [
    "* **Interpretación:**\n",
    "\n",
    "Es la proyección o \"sombra\" de un vector u sobre otro vector v, lo cual significa que se forma un nuevo vector Z sobre el mismo origen y dirección de V. Z es un vector que formaría un triángulo-rectángulo junto al vector U.\n",
    "\n",
    "* **Aplicación o caso de uso en DS u otras ciencias de tu interés: solo se necesita nombrar el caso de uso, no desarrollarlo o programarlo, tip: Hay un algoritmo de ML cuyo nombre puede ser  útil:**\n",
    "\n",
    "    * Usamos la proyección vectorial en Machine Learning, en la técnica de Máquinas de Soporte Vectorial, específicamente en los métodos de kernel. \n",
    "Las máquinas de soporte vectorial, son un conjunto de algoritmos de aprendizaje supervisado. Estos métodos están propiamente relacionados con problemas de clasificación y regresión. Dado un conjunto de ejemplos de entrenamiento (de muestras) podemos etiquetar las clases y entrenar una SVM para construir un modelo que prediga la clase de una nueva muestra.\n"
   ]
  },
  {
   "cell_type": "markdown",
   "metadata": {},
   "source": [
    "## Producto cruz\n",
    "\n",
    "* **Cálculo en numpy:**\n",
    "\n",
    "En numpy el calculo del producto cruz se puede realizar con la siguiente función np.cross(u, v)\n",
    "\n"
   ]
  },
  {
   "cell_type": "code",
   "execution_count": 36,
   "metadata": {},
   "outputs": [
    {
     "name": "stdout",
     "output_type": "stream",
     "text": [
      "El producto cruz es de v1 y v2 es [-10  20 -10]\n"
     ]
    }
   ],
   "source": [
    "def calcular_prod_cruz(v1,v2):\n",
    "    productoCruz = np.cross(v1,v2)\n",
    "    return productoCruz\n",
    "\n",
    "print(\"El producto cruz es de v1 y v2 es\", calcular_prod_cruz(v1,v2))\n"
   ]
  },
  {
   "cell_type": "markdown",
   "metadata": {},
   "source": [
    "* **Interpretación:**\n",
    "\n",
    "El resultado del producto cruz entre los vectores u y v es un vector z. En donde el nuevo vector z es perpendicular al plano en el que están los vectores u y v. Si el producto cruz da como resultado 0, es que ambos vectores son paralelos.\n",
    "\n",
    "El producto cruz es cuando multiplicamos dos vectores y nuestro resultado así como en la suma es otro vector.\n",
    "\n",
    "* **Aplicación o caso de uso en DS u otras ciencias de tu interés: solo se necesita nombrar el caso de uso, no desarrollarlo o programarlo:**\n",
    "\n",
    "    * El producto cruz es utilizado en Redes Neuronales, espcialmente en el Procesamiento Distribuido en Paralelo.\n",
    "Esta teoría establece una seríe de operaciones elementales con vectores y matrices, capaces de tratar, al menos desde un punto de vista teórico, y por lo tanto formal el modo en que un conjunto de elementos procesadores conectados entre sí, ya sea autómatas finitos o neuronas formales, efectúan el procesamiento de información simultáneamente y por tanto en paralelo.\n",
    "\n",
    "    * Estos también se utilizan en algoritmos de aprendizaje automatico, ejemplo identificar puntos del plano carteciano, como identificar una palabra y su origen.\n"
   ]
  }
 ],
 "metadata": {
  "kernelspec": {
   "display_name": "Python 3",
   "language": "python",
   "name": "python3"
  },
  "language_info": {
   "codemirror_mode": {
    "name": "ipython",
    "version": 3
   },
   "file_extension": ".py",
   "mimetype": "text/x-python",
   "name": "python",
   "nbconvert_exporter": "python",
   "pygments_lexer": "ipython3",
   "version": "3.7.4"
  }
 },
 "nbformat": 4,
 "nbformat_minor": 2
}
