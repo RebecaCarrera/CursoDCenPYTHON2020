{
 "cells": [
  {
   "cell_type": "markdown",
   "metadata": {},
   "source": [
    "# Tarea No.3 - Funciones en Python\n",
    "Lilian Rebeca Carrera Lemus  \n",
    "20008077"
   ]
  },
  {
   "cell_type": "markdown",
   "metadata": {},
   "source": [
    "### Función\n",
    "Una función es una porción o bloque de código reutilizable que se encarga de realizar una determinada tarea. A estas funciones  se les puede asignar un nombre con el que pueden ser invocadas.\n",
    "\n",
    "En Python, la definición de funciones se realiza mediante la instrucción *def* más un nombre de función descriptivo, seguido de paréntesis de apertura y cierre. Como toda estructura de control en Python, la definición de la función finaliza con dos puntos (:) y el algoritmo que la compone, irá identado.\n",
    "\n",
    "def mi_funcion():              \n",
    "    # aquí el algoritmo\n"
   ]
  },
  {
   "cell_type": "code",
   "execution_count": 19,
   "metadata": {},
   "outputs": [],
   "source": [
    "#Ejemplo:\n",
    "def sumar():\n",
    "    print(6+2) "
   ]
  },
  {
   "cell_type": "code",
   "execution_count": 20,
   "metadata": {},
   "outputs": [],
   "source": [
    "#Ejemplo No2:\n",
    "def mensaje(): \n",
    "    print (\"Mi primera función\")"
   ]
  },
  {
   "cell_type": "markdown",
   "metadata": {},
   "source": [
    "Una función, no es ejecutada hasta que sea invocada. Para invocar una función, simplemente ponemos el nombre la función seguido de paréntesis."
   ]
  },
  {
   "cell_type": "code",
   "execution_count": 21,
   "metadata": {},
   "outputs": [
    {
     "name": "stdout",
     "output_type": "stream",
     "text": [
      "8\n"
     ]
    }
   ],
   "source": [
    "#Llamada a la función de sumar\n",
    "sumar()"
   ]
  },
  {
   "cell_type": "code",
   "execution_count": 22,
   "metadata": {},
   "outputs": [
    {
     "name": "stdout",
     "output_type": "stream",
     "text": [
      "Mi primera función\n"
     ]
    }
   ],
   "source": [
    "#Llamada a la función de mensaje\n",
    "mensaje()"
   ]
  },
  {
   "cell_type": "markdown",
   "metadata": {},
   "source": [
    "#### Sentencia pass\n",
    "Es una operación nula, es decir, que cuando es ejecutada, nada sucede. Eso es útil como un contenedor cuando una sentencia es requerida sintácticamente, pero no necesita código que ser ejecutado, ya que lo definirimos posteriormente, por ejemplo:"
   ]
  },
  {
   "cell_type": "code",
   "execution_count": 37,
   "metadata": {},
   "outputs": [],
   "source": [
    "#Definición de la función\n",
    "def multiplicar():\n",
    "    pass\n",
    "\n",
    "#Llamada a la función\n",
    "multiplicar()"
   ]
  },
  {
   "cell_type": "markdown",
   "metadata": {},
   "source": [
    "#### Sentencia return\n",
    "Las funciones pueden comunicarse con el exterior de las mismas, al proceso principal del programa usando la sentencia return. El proceso de comunicación con el exterior se hace devolviendo valores."
   ]
  },
  {
   "cell_type": "code",
   "execution_count": 34,
   "metadata": {},
   "outputs": [
    {
     "data": {
      "text/plain": [
       "23"
      ]
     },
     "execution_count": 34,
     "metadata": {},
     "output_type": "execute_result"
    }
   ],
   "source": [
    "def restar():\n",
    "    return 25-2\n",
    "\n",
    "restar()"
   ]
  },
  {
   "cell_type": "markdown",
   "metadata": {},
   "source": [
    "Cuando una función, haga un retorno de datos, éstos, pueden ser asignados a una variable:"
   ]
  },
  {
   "cell_type": "code",
   "execution_count": 35,
   "metadata": {},
   "outputs": [
    {
     "name": "stdout",
     "output_type": "stream",
     "text": [
      "Esta es la resta:  23\n"
     ]
    }
   ],
   "source": [
    "resta = restar() \n",
    "print (\"Esta es la resta: \",resta)"
   ]
  },
  {
   "cell_type": "markdown",
   "metadata": {},
   "source": [
    "#### Parámetros\n",
    "Al definir una función los valores los cuales se reciben se denominan parámetros, y durante la llamada los valores que se envían se denominan argumentos."
   ]
  },
  {
   "cell_type": "markdown",
   "metadata": {},
   "source": [
    "##### Párametros por posición\n",
    "Cuando se envian argumentos a una función, estos se reciben por orden en que los parámetros fueron definidos.\n",
    "\n",
    "En el sigiente ejemplo el argumento 5 es la posición 0 por consiguiente es el parámetro de la función a, seguidamente el argumento 10 es la posición 1 por lo cual corresponde al parámetro de la función b."
   ]
  },
  {
   "cell_type": "code",
   "execution_count": 39,
   "metadata": {},
   "outputs": [
    {
     "data": {
      "text/plain": [
       "50"
      ]
     },
     "execution_count": 39,
     "metadata": {},
     "output_type": "execute_result"
    }
   ],
   "source": [
    "def multiplicar(a, b):\n",
    "    return a * b\n",
    "\n",
    "multiplicar(5, 10)"
   ]
  },
  {
   "cell_type": "markdown",
   "metadata": {},
   "source": [
    "##### Párametros por nombre\n",
    "Sin embargo es posible evadir el orden de los parámetros si se indica durante la llamada que valor tiene cada parámetro a partir de su nombre.\n"
   ]
  },
  {
   "cell_type": "code",
   "execution_count": 42,
   "metadata": {},
   "outputs": [
    {
     "data": {
      "text/plain": [
       "-18"
      ]
     },
     "execution_count": 42,
     "metadata": {},
     "output_type": "execute_result"
    }
   ],
   "source": [
    "def restar(a, b):\n",
    "    return a - b\n",
    "\n",
    "restar(b=25, a=7)"
   ]
  },
  {
   "cell_type": "markdown",
   "metadata": {},
   "source": [
    "Al momento de llamar una función la cual tiene definidos uno o más parámetros, si no se pasa a dicha función los argumentos correctamente se dará un error"
   ]
  },
  {
   "cell_type": "code",
   "execution_count": 44,
   "metadata": {},
   "outputs": [],
   "source": [
    "#multiplicar()"
   ]
  },
  {
   "cell_type": "markdown",
   "metadata": {},
   "source": [
    "##### Parámetros por defecto\n",
    "En python, también es posible, asignar valores por defecto a los parámetros de las funciones. Esto significa, que la función podrá ser llamada con menos argumentos de los que espera."
   ]
  },
  {
   "cell_type": "code",
   "execution_count": 57,
   "metadata": {},
   "outputs": [
    {
     "name": "stdout",
     "output_type": "stream",
     "text": [
      "Hola Luis Leal\n"
     ]
    }
   ],
   "source": [
    "def saludar(mensaje, saludo=\"Hola\"): \n",
    "    print (saludo, mensaje)\n",
    "\n",
    "saludar(\"Luis Leal\")"
   ]
  },
  {
   "cell_type": "markdown",
   "metadata": {},
   "source": [
    "##### Parámetros Indeterminados\n",
    "En algunas ocaciones no sabemos previamente cuantos elementos o parámetros necesita una función, para lo cual podemos utilizar los parámetros indeterminados por posición y por nombre."
   ]
  },
  {
   "cell_type": "code",
   "execution_count": 59,
   "metadata": {},
   "outputs": [
    {
     "name": "stdout",
     "output_type": "stream",
     "text": [
      "22\n",
      "Hola\n",
      "[1, 2, 3, 4, 5]\n"
     ]
    }
   ],
   "source": [
    "#Por posición\n",
    "def indet_posicion(*parametros):\n",
    "     for parametro in parametros:\n",
    "            print(parametro)\n",
    "\n",
    "indet_posicion(22,\"Hola\",[1,2,3,4,5])"
   ]
  },
  {
   "cell_type": "code",
   "execution_count": 61,
   "metadata": {},
   "outputs": [
    {
     "name": "stdout",
     "output_type": "stream",
     "text": [
      "{'a': 22, 'tex': 'Hola', 'lt': [1, 2, 3, 4, 5]}\n"
     ]
    }
   ],
   "source": [
    "#Por nombre\n",
    "def indet_nombre(**parametros):\n",
    "     print(parametros)\n",
    "\n",
    "indet_nombre(a=22,tex=\"Hola\",lt=[1,2,3,4,5])"
   ]
  },
  {
   "cell_type": "markdown",
   "metadata": {},
   "source": [
    "#### Retorno de Múltiples Valores\n",
    "Una característica de las funciones en python es la posibilidad de devolver valores múltiples separados por comas.\n"
   ]
  },
  {
   "cell_type": "code",
   "execution_count": 64,
   "metadata": {},
   "outputs": [
    {
     "data": {
      "text/plain": [
       "(8, 2, 15)"
      ]
     },
     "execution_count": 64,
     "metadata": {},
     "output_type": "execute_result"
    }
   ],
   "source": [
    "def operaciones(a,b):\n",
    "     return a+b, a-b, a*b\n",
    "\n",
    "operaciones(5,3)"
   ]
  },
  {
   "cell_type": "markdown",
   "metadata": {},
   "source": [
    "Cuando una función devuelve valores múltiples, los devuelve como una tupla inmutable, por lo cual estos se pueden reasignar a distintas variables."
   ]
  },
  {
   "cell_type": "code",
   "execution_count": 66,
   "metadata": {},
   "outputs": [
    {
     "name": "stdout",
     "output_type": "stream",
     "text": [
      "La suma es: 8\n",
      "La resta es: 2\n",
      "La multiplicacion es: 15\n"
     ]
    }
   ],
   "source": [
    "suma, resta, multiplicacion = operaciones(5,3)\n",
    "print(\"La suma es:\", suma)\n",
    "print(\"La resta es:\", resta)\n",
    "print(\"La multiplicacion es:\", multiplicacion)"
   ]
  },
  {
   "cell_type": "markdown",
   "metadata": {},
   "source": [
    "#### Funciones como objetos y como parametros de otras funciones\n",
    "En general todos los datos en Python están representados por objetos o relaciones entre objetos. Las funciones son objetos de primera clase y puedes asignarlas a otra variable, almacenarlas en un contenedor (lista, diccionario,etc), pasarlas como argumento, etc como cualquier otro objeto.\n",
    "\n",
    "**Ejemplo:** en el siguiente ejemplo la función operar recibe como primer parámetro una función y un número indeterminado de argumentos que serán usados como parametros de la función recibida.\n"
   ]
  },
  {
   "cell_type": "code",
   "execution_count": 68,
   "metadata": {},
   "outputs": [],
   "source": [
    "def cuadrado(x):\n",
    "    return x ** 2\n",
    "\n",
    "def raiz_cuadrada(x):\n",
    "    return x ** 0.5\n",
    "\n",
    "def operar(func, *parametros):\n",
    "    for parametro in parametros:\n",
    "        print(func(parametro))"
   ]
  },
  {
   "cell_type": "code",
   "execution_count": 70,
   "metadata": {},
   "outputs": [
    {
     "name": "stdout",
     "output_type": "stream",
     "text": [
      "Cuadrados\n",
      "4\n",
      "9\n",
      "25\n",
      "Raiz cuadrada\n",
      "3.0\n",
      "5.0\n",
      "8.0\n",
      "7.0\n"
     ]
    }
   ],
   "source": [
    "print(\"Cuadrados\")\n",
    "operar(cuadrado, 2, 3, 5)\n",
    "print(\"Raiz cuadrada\")\n",
    "operar(raiz_cuadrada, 9, 25, 64, 49)"
   ]
  },
  {
   "cell_type": "markdown",
   "metadata": {},
   "source": [
    "operar(cuadrado) no ejecuta la función en ningún momento, solo toma la referencia de la función cuadrado y crea un segundo nombre (func) apuntando a él.\n",
    "\n",
    "Igualmente podemos almacenar las funciones (sus referencias propiamente dicho) en un contenedor, por ejemplo:\n"
   ]
  },
  {
   "cell_type": "code",
   "execution_count": 74,
   "metadata": {},
   "outputs": [
    {
     "name": "stdout",
     "output_type": "stream",
     "text": [
      "25\n",
      "9.0\n"
     ]
    }
   ],
   "source": [
    "funciones = {\"c\": cuadrado, 'rc': raiz_cuadrada}\n",
    "\n",
    "print(funciones[\"c\"](5))\n",
    "print(funciones[\"rc\"](81))"
   ]
  },
  {
   "cell_type": "markdown",
   "metadata": {},
   "source": [
    "#### Funciones Anónimas o Lambda\n",
    "Python permite definir funciones en una sola línea mediante el uso del la expresión lambda con la siguiente sintaxis:  \n",
    "\n",
    "    *lambda < argumentos >: < código >   \n",
    "\n",
    "A este tipo de funciones se les conoce como funciones lambda o funciones anónimas debido a que no requieren de un nombre para ser definidas.\n",
    "\n",
    "Para nombrar a estas funciones se utiliza el operador de asignación ( = )."
   ]
  },
  {
   "cell_type": "code",
   "execution_count": 78,
   "metadata": {},
   "outputs": [
    {
     "data": {
      "text/plain": [
       "9"
      ]
     },
     "execution_count": 78,
     "metadata": {},
     "output_type": "execute_result"
    }
   ],
   "source": [
    "#Ejemplo\n",
    "cuadrado = lambda numero: numero*numero\n",
    "\n",
    "cuadrado(3)"
   ]
  },
  {
   "cell_type": "markdown",
   "metadata": {},
   "source": [
    "Lo único que necesita hacer para utilizarla es guardarla en una variable y utilizarla tal como haría con una función normal."
   ]
  },
  {
   "cell_type": "code",
   "execution_count": 79,
   "metadata": {},
   "outputs": [
    {
     "data": {
      "text/plain": [
       "True"
      ]
     },
     "execution_count": 79,
     "metadata": {},
     "output_type": "execute_result"
    }
   ],
   "source": [
    "par = lambda numero: numero%2 == 0\n",
    "par (8)"
   ]
  },
  {
   "cell_type": "code",
   "execution_count": 80,
   "metadata": {},
   "outputs": [
    {
     "data": {
      "text/plain": [
       "'nohtyP'"
      ]
     },
     "execution_count": 80,
     "metadata": {},
     "output_type": "execute_result"
    }
   ],
   "source": [
    "#Para cadenas\n",
    "invertir_cadena = lambda cadena: cadena[::-1]\n",
    "invertir_cadena(\"Python\")"
   ]
  },
  {
   "cell_type": "markdown",
   "metadata": {},
   "source": [
    "Funciones Lambda con varios parámetros:"
   ]
  },
  {
   "cell_type": "code",
   "execution_count": 81,
   "metadata": {},
   "outputs": [
    {
     "data": {
      "text/plain": [
       "8"
      ]
     },
     "execution_count": 81,
     "metadata": {},
     "output_type": "execute_result"
    }
   ],
   "source": [
    "multiplica = lambda x,y: x*y\n",
    "multiplica(2,4)"
   ]
  },
  {
   "cell_type": "markdown",
   "metadata": {},
   "source": [
    "**Funciones lambda con estructuras if**\n",
    "Las funciones lambda permiten incluir condicionales dentro de su sintaxis de la siguiente forma:\n",
    "\n",
    "    *lambda < argumentos>: <expresion_1> if <condición> else <expresión_2>"
   ]
  },
  {
   "cell_type": "code",
   "execution_count": 82,
   "metadata": {},
   "outputs": [],
   "source": [
    "es_impar = lambda numero: True if numero % 2 != 0 else False"
   ]
  },
  {
   "cell_type": "code",
   "execution_count": 83,
   "metadata": {},
   "outputs": [
    {
     "data": {
      "text/plain": [
       "False"
      ]
     },
     "execution_count": 83,
     "metadata": {},
     "output_type": "execute_result"
    }
   ],
   "source": [
    "es_impar(2)"
   ]
  }
 ],
 "metadata": {
  "kernelspec": {
   "display_name": "Python 3",
   "language": "python",
   "name": "python3"
  },
  "language_info": {
   "codemirror_mode": {
    "name": "ipython",
    "version": 3
   },
   "file_extension": ".py",
   "mimetype": "text/x-python",
   "name": "python",
   "nbconvert_exporter": "python",
   "pygments_lexer": "ipython3",
   "version": "3.7.4"
  }
 },
 "nbformat": 4,
 "nbformat_minor": 2
}
