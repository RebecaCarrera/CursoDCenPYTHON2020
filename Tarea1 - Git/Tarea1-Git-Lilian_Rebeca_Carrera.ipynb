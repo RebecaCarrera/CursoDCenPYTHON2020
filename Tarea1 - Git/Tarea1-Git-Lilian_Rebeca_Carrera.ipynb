{
 "cells": [
  {
   "cell_type": "markdown",
   "metadata": {},
   "source": [
    "# Tarea No.1 -Git \n",
    "Lilian Rebeca Carrera Lemus\n",
    "20008077"
   ]
  },
  {
   "cell_type": "markdown",
   "metadata": {},
   "source": [
    "## ¿Qué es Git?\n",
    "\n",
    "Git es una herramienta que realiza una función del control de versiones de código de forma distribuida, fue desarrollado por Linus Torvalds en el 2005 para mantener de forma eficaz un proyecto de software de forma distribuida, ordenada y robusta.\n",
    "\n",
    "Git es distribuido, es decir que múltiples personas pueden trabajar en equipo, es open source y también se adapta a todo tipo de proyectos desde pequeños hasta grandes, además, se pueden fusionar archivos, guarda una línea de tiempo a lo largo de todo el proyecto.\n",
    "\n",
    "#### Características de Git:\n",
    "* Es muy potente\n",
    "* No depende de un repositorio central\n",
    "* Es software libre\n",
    "* Podemos movernos por las versiones, como si tuviéramos un puntero en el tiempo, por todas las revisiones de código y desplazarnos una manera muy ágil.\n",
    "* Es muy rápida\n",
    "* Tiene un sistema de trabajo con ramas que lo hace especialmente potente\n",
    "* Gestión distribuida; los cambios se importan como ramas adicionales y pueden ser fusionados de la misma manera como se hace en la rama local.\n",
    "* Gestión eficiente de proyectos grandes.\n",
    "\n",
    "### ¿Qué es un sistema de control de versiones?\n",
    "\n",
    "se define como control de versiones a la gestión de los diversos cambios que se realizan sobre los elementos de algún proyecto o una configuración del mismo. \n",
    "\n",
    "Un sistema de control de versiones es un software que permite mantener un histórico de las distintas versiones de un desarrollo. Este sistema básicamente y a grandes rasgos, consiste en almacenar copias de los ficheros que contienen el código fuente del proyecto en cada uno de sus estados. Esto permite tener siempre a mano el código fuente disponible de un programa, en cada una de sus versiones y/o en una fecha concreta.\n",
    "\n"
   ]
  },
  {
   "cell_type": "markdown",
   "metadata": {},
   "source": [
    "### Copias instantáneas, no diferencias\n",
    "\n",
    "La principal diferencia entre Git y cualquier otro sistema de control de versiones es la forma en la que manejan sus datos, es decir, la mayoría de los otros sistemas almacenan la información como una lista de cambios en los archivos, lo cual siginifca que estos sistemas manejan la información que almacenan como un conjunto de archivos y las modificaciones hechas a cada uno de ellos a través del tiempo.\n",
    "\n",
    "<img src=\"imagen1.png\">\n",
    "\n",
    "Git maneja sus datos como un conjunto de copias instantáneas de un sistema de archivos miniatura. Cada vez que confirmas un cambio, o guardas el estado de tu proyecto en Git, él básicamente toma una foto del aspecto de todos tus archivos en ese momento y guarda una referencia a esa copia instantánea. Para mayor eficiencia, si los archivos no se han modificado Git no almacena el archivo de nuevo, sino un enlace al archivo anterior idéntico que ya tiene almacenado. \n",
    "Esto significa que Git maneja sus datos como una secuencia de copias instantáneas.\n",
    "\n",
    "<img src=\"imagen2.png\">\n"
   ]
  },
  {
   "cell_type": "markdown",
   "metadata": {},
   "source": [
    "### Los Tres Estados\n",
    "\n",
    "Git tiene tres estados principales en los que se pueden encontrar los archivos: confirmado (committed), modificado (modified), y preparado (staged). \n",
    "\n",
    "1. **Confirmado:** significa que los datos están almacenados de manera segura en tu base de datos local. \n",
    "2. **Modificado:** significa que se ha modificado el archivo pero todavía no lo has confirmado a tu base de datos. \n",
    "3. **Preparado:** significa que se marcado un archivo modificado en su versión actual para que vaya en la próxima confirmación.\n",
    "\n",
    "Esto nos lleva a las tres secciones principales de un proyecto de Git: El directorio de Git (Git directory), el directorio de trabajo (working directory), y el área de preparación (staging area).\n",
    "\n",
    "<img src=\"imagen3.png\">\n",
    "\n",
    "* El directorio de Git es donde se almacenan los metadatos y la base de datos de objetos para el proyecto. Es la parte más importante de Git, y es lo que se copia cuando se clona un repositorio desde otra computadora.\n",
    "* El directorio de trabajo es una copia de una versión del proyecto. Estos archivos se sacan de la base de datos comprimida en el directorio de Git, y se colocan en disco para que se puedan usar o modificar.\n",
    "* El área de preparación es un archivo, generalmente contenido en tu directorio de Git, que almacena información acerca de lo que va a ir en la próxima confirmación (commit). \n",
    "\n",
    "Entonces el flujo de trabajo básico en Git sería de la siguiente forma:\n",
    "1.\tSe modifican una serie de archivos en el directorio de trabajo.\n",
    "2.\tPreparamos los archivos, añadiéndolos al área de preparación.\n",
    "3.\tConfirmas los cambios, lo que toma los archivos tal y como están en el área de preparación y almacena esa copia instantánea de manera permanente en tu directorio de Git.\n",
    "\n",
    "Si una versión concreta de un archivo está en el directorio de Git, se considera confirmada (committed), si esta ha sufrido cambios desde que se obtuvo del repositorio, pero ha sido añadida al área de preparación, está preparada (staged) y si ha sufrido cambios desde que se obtuvo del repositorio, pero no se ha preparado, está modificada (modified). \n",
    "\n"
   ]
  },
  {
   "cell_type": "markdown",
   "metadata": {},
   "source": [
    "### Aprendiendo sobre comandos\n",
    "Empezaremos con algunos comandos básicos y que pueden resultar muy utiles para todo principiante.\n",
    "\n",
    "* Para ejecutar estos comandos de consola desde este Notebook vamos a utilizar un bloque tipo Code y anteponerle el símbolo \"%\" y seguido de este vamos a colocar los comandos cmd para poder obtener lo que se conoce como magic cell"
   ]
  },
  {
   "cell_type": "markdown",
   "metadata": {},
   "source": [
    "**pwd:**  Para ubicarme en que directorio me encuentro."
   ]
  },
  {
   "cell_type": "code",
   "execution_count": 1,
   "metadata": {},
   "outputs": [
    {
     "data": {
      "text/plain": [
       "'C:\\\\Users\\\\Rebeca\\\\Documents\\\\GALILEO MAESTRIA EN CIENCIA DE DATOS\\\\TRIMESTRE1\\\\Curso Ciencia de Datos con Phyton\\\\Tareas\\\\Tarea 1'"
      ]
     },
     "execution_count": 1,
     "metadata": {},
     "output_type": "execute_result"
    }
   ],
   "source": [
    "%pwd"
   ]
  },
  {
   "cell_type": "markdown",
   "metadata": {},
   "source": [
    "**cd:** Para situarse dentro del directorio.\n",
    "\n",
    ".. (Punto punto) : Subir un nivel al directorio moverse a un lugar fuera."
   ]
  },
  {
   "cell_type": "code",
   "execution_count": 2,
   "metadata": {},
   "outputs": [
    {
     "name": "stdout",
     "output_type": "stream",
     "text": [
      "C:\\Tarea1\n"
     ]
    }
   ],
   "source": [
    "%cd C:/Tarea1"
   ]
  },
  {
   "cell_type": "markdown",
   "metadata": {},
   "source": [
    "**ls:** Para listar todo lo que está dentro de donde nos situamos"
   ]
  },
  {
   "cell_type": "code",
   "execution_count": 3,
   "metadata": {},
   "outputs": [
    {
     "name": "stdout",
     "output_type": "stream",
     "text": [
      " El volumen de la unidad C es Windows\n",
      " El número de serie del volumen es: 8EA0-7001\n",
      "\n",
      " Directorio de C:\\Tarea1\n",
      "\n",
      "26/02/2020  18:32    <DIR>          .\n",
      "26/02/2020  18:32    <DIR>          ..\n",
      "               0 archivos              0 bytes\n",
      "               2 dirs  94,941,323,264 bytes libres\n"
     ]
    }
   ],
   "source": [
    "%ls"
   ]
  },
  {
   "cell_type": "markdown",
   "metadata": {},
   "source": [
    "**mkdir:** Para crear directorios."
   ]
  },
  {
   "cell_type": "code",
   "execution_count": 4,
   "metadata": {},
   "outputs": [],
   "source": [
    "%mkdir prueba"
   ]
  },
  {
   "cell_type": "markdown",
   "metadata": {},
   "source": [
    "Antes de iniciar con los comando de Git, crearemos un archivo de texto llamado \"NuevoArchivo\", en la carpeta prueba2 que acabamos también vamos crear"
   ]
  },
  {
   "cell_type": "code",
   "execution_count": 6,
   "metadata": {},
   "outputs": [
    {
     "name": "stdout",
     "output_type": "stream",
     "text": [
      "C:\\Tarea1\\prueba2\n"
     ]
    },
    {
     "name": "stderr",
     "output_type": "stream",
     "text": [
      "Acceso denegado.\n"
     ]
    }
   ],
   "source": [
    "%mkdir prueba2\n",
    "%cd C:/Tarea1/prueba2\n",
    "!NUL > NuevoArchivo.txt"
   ]
  },
  {
   "cell_type": "markdown",
   "metadata": {},
   "source": [
    "**echo:** Este comando se utiliza para modificar un archivo creado, en este caso modificaremos el archivo que acabamos de crear (NuevoArchivo)"
   ]
  },
  {
   "cell_type": "code",
   "execution_count": 21,
   "metadata": {},
   "outputs": [],
   "source": [
    "!echo Primera liea de texto>NuevoArchivo.txt"
   ]
  },
  {
   "cell_type": "markdown",
   "metadata": {},
   "source": [
    "### Comandos Básicos en Git\n",
    "\n",
    "Git proporciona una interfaz de consola para ejecutar sus comandos. En esta tarea para hacerlo desde Jupyter se debe anteponer el símbolo \"!\" seguido del comando git. \n",
    "\n",
    "**git help:** Abre una ventana del explorador de internet por default para mostrar información del comando que sigue a partir de la palabra help. Ayuda a saber como utilizar cada comando de git. Por ejemplo para mostrar la ayuda del comando init.\n"
   ]
  },
  {
   "cell_type": "code",
   "execution_count": 10,
   "metadata": {},
   "outputs": [],
   "source": [
    "!git help init"
   ]
  },
  {
   "cell_type": "markdown",
   "metadata": {},
   "source": [
    "**git init:** Para empezar a seguir un proyecto en Git, debemos ir al directorio del proyecto y usar este comando. Crea un nuevo repositorio git, almacenará sus objetos y referencias en el subdirectorio .git, el cual contiene todos los archivos necesarios del repositorio (un esqueleto de un repositorio de Git). Todavía no hay nada en el proyecto que esté bajo seguimiento."
   ]
  },
  {
   "cell_type": "code",
   "execution_count": 8,
   "metadata": {},
   "outputs": [
    {
     "name": "stdout",
     "output_type": "stream",
     "text": [
      "Initialized empty Git repository in C:/Tarea1/prueba2/.git/\n"
     ]
    }
   ],
   "source": [
    "!git init  #En este caso la carpeta es la de prueba2"
   ]
  },
  {
   "cell_type": "markdown",
   "metadata": {},
   "source": [
    "**git add:** Agrega un nuevo archivo al repositorio recién creado, este comando puede ser usado para agregar archivos al Staging Area. Por ejemplo, el siguiente comando agrega un nombre de archivo temp.txt en el directorio local del Staging Area. Sirve para especificar qué archivos queremos controlar.\n",
    "\n",
    "* Podemos utilizar git add seguido del nombre del archivo que queremos controlar, esto sería ir agregando archivo por archivo"
   ]
  },
  {
   "cell_type": "code",
   "execution_count": 12,
   "metadata": {},
   "outputs": [],
   "source": [
    "!git add NuevoArchivo.txt  #En este caso vamos a controlar el archivo NuevoArchivo.txt que creamosanteriormente desntro del archivo prueba2 que estamos siguiendo"
   ]
  },
  {
   "cell_type": "markdown",
   "metadata": {},
   "source": [
    "*  Agregando un . al final del comando git add podremos agregar todos los archivos del directorio."
   ]
  },
  {
   "cell_type": "code",
   "execution_count": 14,
   "metadata": {},
   "outputs": [],
   "source": [
    "!git add ."
   ]
  },
  {
   "cell_type": "markdown",
   "metadata": {},
   "source": [
    "**git status:** Muestra el estatus actual del repositorio y determinar qué archivos están en qué estado."
   ]
  },
  {
   "cell_type": "code",
   "execution_count": 27,
   "metadata": {},
   "outputs": [
    {
     "name": "stdout",
     "output_type": "stream",
     "text": [
      "On branch master\n",
      "Changes not staged for commit:\n",
      "  (use \"git add <file>...\" to update what will be committed)\n",
      "  (use \"git restore <file>...\" to discard changes in working directory)\n",
      "\tmodified:   NuevoArchivo.txt\n",
      "\n",
      "no changes added to commit (use \"git add\" and/or \"git commit -a\")\n"
     ]
    }
   ],
   "source": [
    "!git status"
   ]
  },
  {
   "cell_type": "markdown",
   "metadata": {},
   "source": [
    "**git commit:** Comando que indica que esta lista alguna funcionalidad para que sea una versión del código, es decir capturar la primera imagen o versión del proyecto. Se realiza commit de los cambios realizados y se creará un nuevo snapshot (el archivo que acabamos de agregar). Ahora el archivo esta incluído en la cabecera o directorio de Git.\n",
    "\n",
    "Antes de tomar la primera imagen o snapshot de nuestro proyecto tenemos que configurar git, para esto utilizamos los siguientes comandos de git:\n",
    "* git config -- global user.email \"mimail@mimail.com\"\n",
    "* git config -- global user.name \"mi nombre\""
   ]
  },
  {
   "cell_type": "code",
   "execution_count": 17,
   "metadata": {},
   "outputs": [],
   "source": [
    "!git config --global user.email \"rebeca.carrera@galileo.edu\"\n",
    "!git config --global user.name \"RebecaCarrera\""
   ]
  },
  {
   "cell_type": "markdown",
   "metadata": {},
   "source": [
    "Ahora si podremos utilizar el comando git commit"
   ]
  },
  {
   "cell_type": "code",
   "execution_count": 18,
   "metadata": {},
   "outputs": [
    {
     "name": "stdout",
     "output_type": "stream",
     "text": [
      "[master (root-commit) fd68976] Primer archivo agregado\n",
      " 1 file changed, 0 insertions(+), 0 deletions(-)\n",
      " create mode 100644 NuevoArchivo.txt\n"
     ]
    }
   ],
   "source": [
    "!git commit -m \"Primer archivo agregado\""
   ]
  },
  {
   "cell_type": "markdown",
   "metadata": {},
   "source": [
    "**git log:** Muestra un historico de los commit realizados en el repositorio, nos ayudar para diferenciar cada versión de nuestros archivos."
   ]
  },
  {
   "cell_type": "code",
   "execution_count": 19,
   "metadata": {},
   "outputs": [
    {
     "name": "stdout",
     "output_type": "stream",
     "text": [
      "commit fd68976c4d3bca9bfb7b8ad776dc079d5a381717\n",
      "Author: RebecaCarrera <rebeca.carrera@galileo.edu>\n",
      "Date:   Wed Feb 26 20:08:23 2020 -0600\n",
      "\n",
      "    Primer archivo agregado\n"
     ]
    }
   ],
   "source": [
    "!git log"
   ]
  },
  {
   "cell_type": "markdown",
   "metadata": {},
   "source": [
    "**git diff:** Muestra las diferencias de un archivo especifico en relación con el último commit. \n",
    "\n",
    "Para usar este comando, primero realizaremos una modificación al archivo de texto que ya teniamos (NuevoArchivo), agregaremos otra línea de texto \"Segunda linea de texto\""
   ]
  },
  {
   "cell_type": "code",
   "execution_count": 23,
   "metadata": {},
   "outputs": [],
   "source": [
    "!echo Segunda linea de texto>NuevoArchivo.txt"
   ]
  },
  {
   "cell_type": "code",
   "execution_count": 24,
   "metadata": {},
   "outputs": [
    {
     "name": "stdout",
     "output_type": "stream",
     "text": [
      "diff --git a/NuevoArchivo.txt b/NuevoArchivo.txt\n",
      "index e69de29..3234075 100644\n",
      "--- a/NuevoArchivo.txt\n",
      "+++ b/NuevoArchivo.txt\n",
      "@@ -0,0 +1 @@\n",
      "+Segunda linea de texto\n"
     ]
    }
   ],
   "source": [
    "#Procedemos ahora a ejecutar el comando git diff para ver las diferencias\n",
    "!git diff NuevoArchivo.txt"
   ]
  },
  {
   "cell_type": "code",
   "execution_count": 39,
   "metadata": {},
   "outputs": [
    {
     "name": "stdout",
     "output_type": "stream",
     "text": [
      "On branch master\n",
      "Changes not staged for commit:\n",
      "\tmodified:   NuevoArchivo.txt\n",
      "\n",
      "no changes added to commit\n"
     ]
    }
   ],
   "source": [
    "#Realizamos commit de los cambios del archivo\n",
    "!git commit"
   ]
  },
  {
   "cell_type": "markdown",
   "metadata": {},
   "source": [
    "### Ramas\n",
    "\n",
    "Las \"branches\" o ramas, permiten trabajar con una base de código paralela al proyecto en sí, donde podemos corregir bugs o desarrollar nuevas características para el producto sin afectar el \"master\", pero manteniendo todas las ventajas de usar un sistema de control de versiones. Una vez que estamos satisfechos con nuestro \"branch\", podemos combinarlo con el \"master\" o, en lenguaje Git, hacer un \"merge\".\n",
    "\n",
    "La rama master es la rama \"por defecto\" cuando se crea un repositorio, duraner el desarrollo podemos crear nuevas ramas  y fusiónalas a la rama principal cuando terminemos."
   ]
  },
  {
   "cell_type": "markdown",
   "metadata": {},
   "source": [
    "**git branch:** Muestra las ramas que tenemos en nuestro repositorio, mostrando marcada con un * la rama en la que nos encontramos actualmente. También es usado para crear ramas nuevas, solamente tenemos que agregar un nombre para la nueva rama al final."
   ]
  },
  {
   "cell_type": "code",
   "execution_count": 36,
   "metadata": {},
   "outputs": [
    {
     "name": "stdout",
     "output_type": "stream",
     "text": [
      "  RamaDos\n",
      "* RamaUno\n",
      "  master\n"
     ]
    }
   ],
   "source": [
    "#Listar las ramas en el repositorio\n",
    "!git branch"
   ]
  },
  {
   "cell_type": "code",
   "execution_count": 31,
   "metadata": {},
   "outputs": [],
   "source": [
    "#Crear una nueva rama1\n",
    "!git branch RamaUno"
   ]
  },
  {
   "cell_type": "code",
   "execution_count": 52,
   "metadata": {},
   "outputs": [],
   "source": [
    "#Crear una nueva rama2\n",
    "!git branch RamaDos"
   ]
  },
  {
   "cell_type": "markdown",
   "metadata": {},
   "source": [
    "**git checkout:** Comando utilizado para pasar de una rama a otra. Como por ejemplo pasar de la rama master a la RamaUno"
   ]
  },
  {
   "cell_type": "code",
   "execution_count": 41,
   "metadata": {},
   "outputs": [
    {
     "name": "stdout",
     "output_type": "stream",
     "text": [
      "M\tNuevoArchivo.txt\n"
     ]
    },
    {
     "name": "stderr",
     "output_type": "stream",
     "text": [
      "Already on 'RamaUno'\n"
     ]
    },
    {
     "name": "stdout",
     "output_type": "stream",
     "text": [
      "  RamaDos\n",
      "* RamaUno\n",
      "  master\n"
     ]
    }
   ],
   "source": [
    "!git checkout RamaUno\n",
    "!git branch #listar las 3 mas y verificar en cual estamos"
   ]
  },
  {
   "cell_type": "markdown",
   "metadata": {},
   "source": [
    "**git branch -d:** Este comando lo utilizamos para borrar una rama."
   ]
  },
  {
   "cell_type": "code",
   "execution_count": 44,
   "metadata": {},
   "outputs": [
    {
     "name": "stderr",
     "output_type": "stream",
     "text": [
      "error: branch 'RamaDos' not found.\n"
     ]
    },
    {
     "name": "stdout",
     "output_type": "stream",
     "text": [
      "* RamaUno\n",
      "  master\n"
     ]
    }
   ],
   "source": [
    "!git branch -d RamaDos\n",
    "!git branch"
   ]
  },
  {
   "cell_type": "markdown",
   "metadata": {},
   "source": [
    "**git merge:** Este comando se utiliza para fusionar otra rama a tu rama activa (por ejemplo master).\n"
   ]
  },
  {
   "cell_type": "code",
   "execution_count": 45,
   "metadata": {},
   "outputs": [
    {
     "name": "stdout",
     "output_type": "stream",
     "text": [
      "M\tNuevoArchivo.txt\n"
     ]
    },
    {
     "name": "stderr",
     "output_type": "stream",
     "text": [
      "Switched to branch 'master'\n"
     ]
    }
   ],
   "source": [
    "#cambiamos a la rama master\n",
    "!git checkout master"
   ]
  },
  {
   "cell_type": "code",
   "execution_count": 46,
   "metadata": {},
   "outputs": [
    {
     "name": "stdout",
     "output_type": "stream",
     "text": [
      "Already up to date.\n"
     ]
    }
   ],
   "source": [
    "!git merge RamaUno"
   ]
  },
  {
   "cell_type": "code",
   "execution_count": 48,
   "metadata": {},
   "outputs": [
    {
     "name": "stdout",
     "output_type": "stream",
     "text": [
      "M\tNuevoArchivo.txt\n"
     ]
    },
    {
     "name": "stderr",
     "output_type": "stream",
     "text": [
      "Switched to branch 'RamaUno'\n"
     ]
    },
    {
     "name": "stdout",
     "output_type": "stream",
     "text": [
      "On branch RamaUno\n",
      "Changes not staged for commit:\n",
      "  (use \"git add <file>...\" to update what will be committed)\n",
      "  (use \"git restore <file>...\" to discard changes in working directory)\n",
      "\tmodified:   NuevoArchivo.txt\n",
      "\n",
      "no changes added to commit (use \"git add\" and/or \"git commit -a\")\n"
     ]
    }
   ],
   "source": [
    "#Para verificar el merge\n",
    "!git checkout RamaUno\n",
    "!git status"
   ]
  },
  {
   "cell_type": "markdown",
   "metadata": {},
   "source": [
    "### Trabajar con Remotos\n",
    "\n",
    "Para poder colaborar en cualquier proyecto Git, necesitamos saber cómo gestionar repositorios remotos. Los repositorios remotos son versiones de nuestro proyecto que están hospedadas en Internet o en cualquier otra red. Podemos tener varios de ellos, y en cada uno tendrás generalmente permisos de solo lectura o de lectura y escritura. Colaborar con otras personas implica gestionar estos repositorios remotos enviando y trayendo datos de ellos cada vez que necesitemos compartir nuestro trabajo.\n",
    "\n",
    "A continuación se listarán algunos de los comandos más basicos para trabajar con remotos:"
   ]
  },
  {
   "cell_type": "markdown",
   "metadata": {},
   "source": [
    "* **git remote:** Este comando se utiliza para listar los repositorios remotos \"git remote\" o bien para agregar un repositorio remoto, es decir, para añadir un remoto nuevo y asociarlo a un nombre que puedas referenciar fácilmente\"git remote add < name > < url >\"\n",
    "\n",
    "* **git push:** Básicamente lo que realiza un push es publicar lo que se encuentra en nuestro servidor local y llevarlo al servidor remoto \"git push < remote > < local branch >:< remote branch >\"\n",
    "\n",
    "* **git pull:** Este comando se utiliza para descargar la versión del repositorio remoto hacia nuestro repositorio local \"git pull\"\n",
    "\n",
    "* **git fetch:** Este comando le permite al usuario buscar todos los objetos de un repositorio remoto que actualmente no reside en el directorio local que está trabajando \"git fetch\"\n",
    "\n",
    "* **git clone:** Este comando nos permite descargar un repositorio remoto hacia nuestro repositorio local. Por lo general se realiza cuando no se tenia ese repositorio en nuestra máquina local \"git clone\"\n",
    "\n",
    "* **git remote rename y git remote rm:** Estos comandos son para cambiar el nombre a un remoto y para borrar un remoto respectivamente \"git remote rename < nombre actual> < nuevo nombre>\" y para borrar \" git remote < nombre>\""
   ]
  }
 ],
 "metadata": {
  "kernelspec": {
   "display_name": "Python 3",
   "language": "python",
   "name": "python3"
  },
  "language_info": {
   "codemirror_mode": {
    "name": "ipython",
    "version": 3
   },
   "file_extension": ".py",
   "mimetype": "text/x-python",
   "name": "python",
   "nbconvert_exporter": "python",
   "pygments_lexer": "ipython3",
   "version": "3.7.4"
  }
 },
 "nbformat": 4,
 "nbformat_minor": 4
}
